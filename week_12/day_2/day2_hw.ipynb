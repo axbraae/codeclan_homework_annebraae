{
 "cells": [
  {
   "cell_type": "code",
   "execution_count": 1,
   "metadata": {},
   "outputs": [],
   "source": [
    "import numpy as np\n",
    "import pandas as pd"
   ]
  },
  {
   "cell_type": "markdown",
   "metadata": {},
   "source": [
    "## Question 1"
   ]
  },
  {
   "cell_type": "code",
   "execution_count": 2,
   "metadata": {},
   "outputs": [],
   "source": [
    "drinks_content = pd.read_csv(\"starbucks_drinkMenu_expanded.csv\")"
   ]
  },
  {
   "cell_type": "code",
   "execution_count": 3,
   "metadata": {},
   "outputs": [
    {
     "data": {
      "text/html": "<div>\n<style scoped>\n    .dataframe tbody tr th:only-of-type {\n        vertical-align: middle;\n    }\n\n    .dataframe tbody tr th {\n        vertical-align: top;\n    }\n\n    .dataframe thead th {\n        text-align: right;\n    }\n</style>\n<table border=\"1\" class=\"dataframe\">\n  <thead>\n    <tr style=\"text-align: right;\">\n      <th></th>\n      <th>Beverage_category</th>\n      <th>Beverage</th>\n      <th>Beverage_prep</th>\n      <th>Calories</th>\n      <th>Total Fat (g)</th>\n      <th>Trans Fat (g)</th>\n      <th>Saturated Fat (g)</th>\n      <th>Sodium (mg)</th>\n      <th>Total Carbohydrates (g)</th>\n      <th>Cholesterol (mg)</th>\n      <th>Dietary Fibre (g)</th>\n      <th>Sugars (g)</th>\n      <th>Protein (g)</th>\n      <th>Vitamin A (% DV)</th>\n      <th>Vitamin C (% DV)</th>\n      <th>Calcium (% DV)</th>\n      <th>Iron (% DV)</th>\n      <th>Caffeine (mg)</th>\n    </tr>\n  </thead>\n  <tbody>\n    <tr>\n      <th>0</th>\n      <td>Coffee</td>\n      <td>Brewed Coffee</td>\n      <td>Short</td>\n      <td>3</td>\n      <td>0.1</td>\n      <td>0.0</td>\n      <td>0.0</td>\n      <td>0</td>\n      <td>5</td>\n      <td>0</td>\n      <td>0</td>\n      <td>0</td>\n      <td>0.3</td>\n      <td>0%</td>\n      <td>0%</td>\n      <td>0%</td>\n      <td>0%</td>\n      <td>175</td>\n    </tr>\n    <tr>\n      <th>1</th>\n      <td>Coffee</td>\n      <td>Brewed Coffee</td>\n      <td>Tall</td>\n      <td>4</td>\n      <td>0.1</td>\n      <td>0.0</td>\n      <td>0.0</td>\n      <td>0</td>\n      <td>10</td>\n      <td>0</td>\n      <td>0</td>\n      <td>0</td>\n      <td>0.5</td>\n      <td>0%</td>\n      <td>0%</td>\n      <td>0%</td>\n      <td>0%</td>\n      <td>260</td>\n    </tr>\n    <tr>\n      <th>2</th>\n      <td>Coffee</td>\n      <td>Brewed Coffee</td>\n      <td>Grande</td>\n      <td>5</td>\n      <td>0.1</td>\n      <td>0.0</td>\n      <td>0.0</td>\n      <td>0</td>\n      <td>10</td>\n      <td>0</td>\n      <td>0</td>\n      <td>0</td>\n      <td>1.0</td>\n      <td>0%</td>\n      <td>0%</td>\n      <td>0%</td>\n      <td>0%</td>\n      <td>330</td>\n    </tr>\n    <tr>\n      <th>3</th>\n      <td>Coffee</td>\n      <td>Brewed Coffee</td>\n      <td>Venti</td>\n      <td>5</td>\n      <td>0.1</td>\n      <td>0.0</td>\n      <td>0.0</td>\n      <td>0</td>\n      <td>10</td>\n      <td>0</td>\n      <td>0</td>\n      <td>0</td>\n      <td>1.0</td>\n      <td>0%</td>\n      <td>0%</td>\n      <td>2%</td>\n      <td>0%</td>\n      <td>410</td>\n    </tr>\n    <tr>\n      <th>4</th>\n      <td>Classic Espresso Drinks</td>\n      <td>Caffè Latte</td>\n      <td>Short Nonfat Milk</td>\n      <td>70</td>\n      <td>0.1</td>\n      <td>0.1</td>\n      <td>0.0</td>\n      <td>5</td>\n      <td>75</td>\n      <td>10</td>\n      <td>0</td>\n      <td>9</td>\n      <td>6.0</td>\n      <td>10%</td>\n      <td>0%</td>\n      <td>20%</td>\n      <td>0%</td>\n      <td>75</td>\n    </tr>\n  </tbody>\n</table>\n</div>",
      "text/plain": "         Beverage_category       Beverage      Beverage_prep  Calories  \\\n0                   Coffee  Brewed Coffee              Short         3   \n1                   Coffee  Brewed Coffee               Tall         4   \n2                   Coffee  Brewed Coffee             Grande         5   \n3                   Coffee  Brewed Coffee              Venti         5   \n4  Classic Espresso Drinks    Caffè Latte  Short Nonfat Milk        70   \n\n   Total Fat (g)  Trans Fat (g)   Saturated Fat (g)   Sodium (mg)  \\\n0            0.1             0.0                0.0             0   \n1            0.1             0.0                0.0             0   \n2            0.1             0.0                0.0             0   \n3            0.1             0.0                0.0             0   \n4            0.1             0.1                0.0             5   \n\n    Total Carbohydrates (g)   Cholesterol (mg)   Dietary Fibre (g)  \\\n0                          5                 0                   0   \n1                         10                 0                   0   \n2                         10                 0                   0   \n3                         10                 0                   0   \n4                         75                10                   0   \n\n    Sugars (g)   Protein (g)  Vitamin A (% DV)  Vitamin C (% DV)  \\\n0            0            0.3                0%               0%   \n1            0            0.5                0%               0%   \n2            0            1.0                0%               0%   \n3            0            1.0                0%               0%   \n4            9            6.0               10%               0%   \n\n   Calcium (% DV)  Iron (% DV)  Caffeine (mg)  \n0               0%           0%           175  \n1               0%           0%           260  \n2               0%           0%           330  \n3               2%           0%           410  \n4              20%           0%            75  "
     },
     "execution_count": 3,
     "metadata": {},
     "output_type": "execute_result"
    }
   ],
   "source": [
    "drinks_content.head(5)"
   ]
  },
  {
   "cell_type": "code",
   "execution_count": 4,
   "metadata": {},
   "outputs": [
    {
     "data": {
      "text/html": "<div>\n<style scoped>\n    .dataframe tbody tr th:only-of-type {\n        vertical-align: middle;\n    }\n\n    .dataframe tbody tr th {\n        vertical-align: top;\n    }\n\n    .dataframe thead th {\n        text-align: right;\n    }\n</style>\n<table border=\"1\" class=\"dataframe\">\n  <thead>\n    <tr style=\"text-align: right;\">\n      <th></th>\n      <th>Beverage_category</th>\n      <th>Beverage</th>\n      <th>Beverage_prep</th>\n      <th>Calories</th>\n      <th>Total Fat (g)</th>\n      <th>Trans Fat (g)</th>\n      <th>Saturated Fat (g)</th>\n      <th>Sodium (mg)</th>\n      <th>Total Carbohydrates (g)</th>\n      <th>Cholesterol (mg)</th>\n      <th>Dietary Fibre (g)</th>\n      <th>Sugars (g)</th>\n      <th>Protein (g)</th>\n      <th>Vitamin A (% DV)</th>\n      <th>Vitamin C (% DV)</th>\n      <th>Calcium (% DV)</th>\n      <th>Iron (% DV)</th>\n      <th>Caffeine (mg)</th>\n    </tr>\n  </thead>\n  <tbody>\n    <tr>\n      <th>237</th>\n      <td>Frappuccino® Blended Crème</td>\n      <td>Strawberries &amp; Crème (Without Whipped Cream)</td>\n      <td>Soymilk</td>\n      <td>320</td>\n      <td>3 2</td>\n      <td>0.4</td>\n      <td>0.0</td>\n      <td>0</td>\n      <td>250</td>\n      <td>67</td>\n      <td>1</td>\n      <td>64</td>\n      <td>5.0</td>\n      <td>6%</td>\n      <td>8%</td>\n      <td>20%</td>\n      <td>10%</td>\n      <td>0</td>\n    </tr>\n    <tr>\n      <th>238</th>\n      <td>Frappuccino® Blended Crème</td>\n      <td>Vanilla Bean (Without Whipped Cream)</td>\n      <td>Tall Nonfat Milk</td>\n      <td>170</td>\n      <td>0.1</td>\n      <td>0.1</td>\n      <td>0.0</td>\n      <td>0</td>\n      <td>160</td>\n      <td>39</td>\n      <td>0</td>\n      <td>38</td>\n      <td>4.0</td>\n      <td>6%</td>\n      <td>0%</td>\n      <td>10%</td>\n      <td>0%</td>\n      <td>0</td>\n    </tr>\n    <tr>\n      <th>239</th>\n      <td>Frappuccino® Blended Crème</td>\n      <td>Vanilla Bean (Without Whipped Cream)</td>\n      <td>Whole Milk</td>\n      <td>200</td>\n      <td>3.5</td>\n      <td>2.0</td>\n      <td>0.1</td>\n      <td>10</td>\n      <td>160</td>\n      <td>39</td>\n      <td>0</td>\n      <td>38</td>\n      <td>3.0</td>\n      <td>6%</td>\n      <td>0%</td>\n      <td>10%</td>\n      <td>0%</td>\n      <td>0</td>\n    </tr>\n    <tr>\n      <th>240</th>\n      <td>Frappuccino® Blended Crème</td>\n      <td>Vanilla Bean (Without Whipped Cream)</td>\n      <td>Soymilk</td>\n      <td>180</td>\n      <td>1.5</td>\n      <td>0.2</td>\n      <td>0.0</td>\n      <td>0</td>\n      <td>160</td>\n      <td>37</td>\n      <td>1</td>\n      <td>35</td>\n      <td>3.0</td>\n      <td>4%</td>\n      <td>0%</td>\n      <td>10%</td>\n      <td>6%</td>\n      <td>0</td>\n    </tr>\n    <tr>\n      <th>241</th>\n      <td>Frappuccino® Blended Crème</td>\n      <td>Vanilla Bean (Without Whipped Cream)</td>\n      <td>Grande Nonfat Milk</td>\n      <td>240</td>\n      <td>0.1</td>\n      <td>0.1</td>\n      <td>0.0</td>\n      <td>5</td>\n      <td>230</td>\n      <td>56</td>\n      <td>0</td>\n      <td>55</td>\n      <td>5.0</td>\n      <td>8%</td>\n      <td>0%</td>\n      <td>15%</td>\n      <td>0%</td>\n      <td>0</td>\n    </tr>\n  </tbody>\n</table>\n</div>",
      "text/plain": "              Beverage_category                                      Beverage  \\\n237  Frappuccino® Blended Crème  Strawberries & Crème (Without Whipped Cream)   \n238  Frappuccino® Blended Crème          Vanilla Bean (Without Whipped Cream)   \n239  Frappuccino® Blended Crème          Vanilla Bean (Without Whipped Cream)   \n240  Frappuccino® Blended Crème          Vanilla Bean (Without Whipped Cream)   \n241  Frappuccino® Blended Crème          Vanilla Bean (Without Whipped Cream)   \n\n          Beverage_prep  Calories  Total Fat (g)  Trans Fat (g)   \\\n237             Soymilk       320            3 2             0.4   \n238    Tall Nonfat Milk       170            0.1             0.1   \n239          Whole Milk       200            3.5             2.0   \n240             Soymilk       180            1.5             0.2   \n241  Grande Nonfat Milk       240            0.1             0.1   \n\n     Saturated Fat (g)   Sodium (mg)   Total Carbohydrates (g)   \\\n237                0.0             0                        250   \n238                0.0             0                        160   \n239                0.1            10                        160   \n240                0.0             0                        160   \n241                0.0             5                        230   \n\n     Cholesterol (mg)   Dietary Fibre (g)   Sugars (g)   Protein (g)   \\\n237                67                   1           64            5.0   \n238                39                   0           38            4.0   \n239                39                   0           38            3.0   \n240                37                   1           35            3.0   \n241                56                   0           55            5.0   \n\n    Vitamin A (% DV)  Vitamin C (% DV)  Calcium (% DV)  Iron (% DV)   \\\n237                6%               8%              20%          10%   \n238                6%               0%              10%           0%   \n239                6%               0%              10%           0%   \n240                4%               0%              10%           6%   \n241                8%               0%              15%           0%   \n\n    Caffeine (mg)  \n237             0  \n238             0  \n239             0  \n240             0  \n241             0  "
     },
     "execution_count": 4,
     "metadata": {},
     "output_type": "execute_result"
    }
   ],
   "source": [
    "drinks_content.tail(5)"
   ]
  },
  {
   "cell_type": "code",
   "execution_count": 5,
   "metadata": {},
   "outputs": [
    {
     "data": {
      "text/html": "<div>\n<style scoped>\n    .dataframe tbody tr th:only-of-type {\n        vertical-align: middle;\n    }\n\n    .dataframe tbody tr th {\n        vertical-align: top;\n    }\n\n    .dataframe thead th {\n        text-align: right;\n    }\n</style>\n<table border=\"1\" class=\"dataframe\">\n  <thead>\n    <tr style=\"text-align: right;\">\n      <th></th>\n      <th>Beverage_category</th>\n      <th>Beverage</th>\n      <th>Beverage_prep</th>\n      <th>Calories</th>\n      <th>Total Fat (g)</th>\n      <th>Trans Fat (g)</th>\n      <th>Saturated Fat (g)</th>\n      <th>Sodium (mg)</th>\n      <th>Total Carbohydrates (g)</th>\n      <th>Cholesterol (mg)</th>\n      <th>Dietary Fibre (g)</th>\n      <th>Sugars (g)</th>\n      <th>Protein (g)</th>\n      <th>Vitamin A (% DV)</th>\n      <th>Vitamin C (% DV)</th>\n      <th>Calcium (% DV)</th>\n      <th>Iron (% DV)</th>\n      <th>Caffeine (mg)</th>\n    </tr>\n  </thead>\n  <tbody>\n    <tr>\n      <th>0</th>\n      <td>Coffee</td>\n      <td>Brewed Coffee</td>\n      <td>Short</td>\n      <td>3</td>\n      <td>0.1</td>\n      <td>0.0</td>\n      <td>0.0</td>\n      <td>0</td>\n      <td>5</td>\n      <td>0</td>\n      <td>0</td>\n      <td>0</td>\n      <td>0.3</td>\n      <td>0%</td>\n      <td>0%</td>\n      <td>0%</td>\n      <td>0%</td>\n      <td>175</td>\n    </tr>\n    <tr>\n      <th>1</th>\n      <td>Coffee</td>\n      <td>Brewed Coffee</td>\n      <td>Tall</td>\n      <td>4</td>\n      <td>0.1</td>\n      <td>0.0</td>\n      <td>0.0</td>\n      <td>0</td>\n      <td>10</td>\n      <td>0</td>\n      <td>0</td>\n      <td>0</td>\n      <td>0.5</td>\n      <td>0%</td>\n      <td>0%</td>\n      <td>0%</td>\n      <td>0%</td>\n      <td>260</td>\n    </tr>\n    <tr>\n      <th>2</th>\n      <td>Coffee</td>\n      <td>Brewed Coffee</td>\n      <td>Grande</td>\n      <td>5</td>\n      <td>0.1</td>\n      <td>0.0</td>\n      <td>0.0</td>\n      <td>0</td>\n      <td>10</td>\n      <td>0</td>\n      <td>0</td>\n      <td>0</td>\n      <td>1.0</td>\n      <td>0%</td>\n      <td>0%</td>\n      <td>0%</td>\n      <td>0%</td>\n      <td>330</td>\n    </tr>\n    <tr>\n      <th>3</th>\n      <td>Coffee</td>\n      <td>Brewed Coffee</td>\n      <td>Venti</td>\n      <td>5</td>\n      <td>0.1</td>\n      <td>0.0</td>\n      <td>0.0</td>\n      <td>0</td>\n      <td>10</td>\n      <td>0</td>\n      <td>0</td>\n      <td>0</td>\n      <td>1.0</td>\n      <td>0%</td>\n      <td>0%</td>\n      <td>2%</td>\n      <td>0%</td>\n      <td>410</td>\n    </tr>\n    <tr>\n      <th>4</th>\n      <td>Classic Espresso Drinks</td>\n      <td>Caffè Latte</td>\n      <td>Short Nonfat Milk</td>\n      <td>70</td>\n      <td>0.1</td>\n      <td>0.1</td>\n      <td>0.0</td>\n      <td>5</td>\n      <td>75</td>\n      <td>10</td>\n      <td>0</td>\n      <td>9</td>\n      <td>6.0</td>\n      <td>10%</td>\n      <td>0%</td>\n      <td>20%</td>\n      <td>0%</td>\n      <td>75</td>\n    </tr>\n    <tr>\n      <th>...</th>\n      <td>...</td>\n      <td>...</td>\n      <td>...</td>\n      <td>...</td>\n      <td>...</td>\n      <td>...</td>\n      <td>...</td>\n      <td>...</td>\n      <td>...</td>\n      <td>...</td>\n      <td>...</td>\n      <td>...</td>\n      <td>...</td>\n      <td>...</td>\n      <td>...</td>\n      <td>...</td>\n      <td>...</td>\n      <td>...</td>\n    </tr>\n    <tr>\n      <th>237</th>\n      <td>Frappuccino® Blended Crème</td>\n      <td>Strawberries &amp; Crème (Without Whipped Cream)</td>\n      <td>Soymilk</td>\n      <td>320</td>\n      <td>3 2</td>\n      <td>0.4</td>\n      <td>0.0</td>\n      <td>0</td>\n      <td>250</td>\n      <td>67</td>\n      <td>1</td>\n      <td>64</td>\n      <td>5.0</td>\n      <td>6%</td>\n      <td>8%</td>\n      <td>20%</td>\n      <td>10%</td>\n      <td>0</td>\n    </tr>\n    <tr>\n      <th>238</th>\n      <td>Frappuccino® Blended Crème</td>\n      <td>Vanilla Bean (Without Whipped Cream)</td>\n      <td>Tall Nonfat Milk</td>\n      <td>170</td>\n      <td>0.1</td>\n      <td>0.1</td>\n      <td>0.0</td>\n      <td>0</td>\n      <td>160</td>\n      <td>39</td>\n      <td>0</td>\n      <td>38</td>\n      <td>4.0</td>\n      <td>6%</td>\n      <td>0%</td>\n      <td>10%</td>\n      <td>0%</td>\n      <td>0</td>\n    </tr>\n    <tr>\n      <th>239</th>\n      <td>Frappuccino® Blended Crème</td>\n      <td>Vanilla Bean (Without Whipped Cream)</td>\n      <td>Whole Milk</td>\n      <td>200</td>\n      <td>3.5</td>\n      <td>2.0</td>\n      <td>0.1</td>\n      <td>10</td>\n      <td>160</td>\n      <td>39</td>\n      <td>0</td>\n      <td>38</td>\n      <td>3.0</td>\n      <td>6%</td>\n      <td>0%</td>\n      <td>10%</td>\n      <td>0%</td>\n      <td>0</td>\n    </tr>\n    <tr>\n      <th>240</th>\n      <td>Frappuccino® Blended Crème</td>\n      <td>Vanilla Bean (Without Whipped Cream)</td>\n      <td>Soymilk</td>\n      <td>180</td>\n      <td>1.5</td>\n      <td>0.2</td>\n      <td>0.0</td>\n      <td>0</td>\n      <td>160</td>\n      <td>37</td>\n      <td>1</td>\n      <td>35</td>\n      <td>3.0</td>\n      <td>4%</td>\n      <td>0%</td>\n      <td>10%</td>\n      <td>6%</td>\n      <td>0</td>\n    </tr>\n    <tr>\n      <th>241</th>\n      <td>Frappuccino® Blended Crème</td>\n      <td>Vanilla Bean (Without Whipped Cream)</td>\n      <td>Grande Nonfat Milk</td>\n      <td>240</td>\n      <td>0.1</td>\n      <td>0.1</td>\n      <td>0.0</td>\n      <td>5</td>\n      <td>230</td>\n      <td>56</td>\n      <td>0</td>\n      <td>55</td>\n      <td>5.0</td>\n      <td>8%</td>\n      <td>0%</td>\n      <td>15%</td>\n      <td>0%</td>\n      <td>0</td>\n    </tr>\n  </tbody>\n</table>\n<p>242 rows × 18 columns</p>\n</div>",
      "text/plain": "              Beverage_category                                      Beverage  \\\n0                        Coffee                                 Brewed Coffee   \n1                        Coffee                                 Brewed Coffee   \n2                        Coffee                                 Brewed Coffee   \n3                        Coffee                                 Brewed Coffee   \n4       Classic Espresso Drinks                                   Caffè Latte   \n..                          ...                                           ...   \n237  Frappuccino® Blended Crème  Strawberries & Crème (Without Whipped Cream)   \n238  Frappuccino® Blended Crème          Vanilla Bean (Without Whipped Cream)   \n239  Frappuccino® Blended Crème          Vanilla Bean (Without Whipped Cream)   \n240  Frappuccino® Blended Crème          Vanilla Bean (Without Whipped Cream)   \n241  Frappuccino® Blended Crème          Vanilla Bean (Without Whipped Cream)   \n\n          Beverage_prep  Calories  Total Fat (g)  Trans Fat (g)   \\\n0                 Short         3            0.1             0.0   \n1                  Tall         4            0.1             0.0   \n2                Grande         5            0.1             0.0   \n3                 Venti         5            0.1             0.0   \n4     Short Nonfat Milk        70            0.1             0.1   \n..                  ...       ...            ...             ...   \n237             Soymilk       320            3 2             0.4   \n238    Tall Nonfat Milk       170            0.1             0.1   \n239          Whole Milk       200            3.5             2.0   \n240             Soymilk       180            1.5             0.2   \n241  Grande Nonfat Milk       240            0.1             0.1   \n\n     Saturated Fat (g)   Sodium (mg)   Total Carbohydrates (g)   \\\n0                  0.0             0                          5   \n1                  0.0             0                         10   \n2                  0.0             0                         10   \n3                  0.0             0                         10   \n4                  0.0             5                         75   \n..                 ...           ...                        ...   \n237                0.0             0                        250   \n238                0.0             0                        160   \n239                0.1            10                        160   \n240                0.0             0                        160   \n241                0.0             5                        230   \n\n     Cholesterol (mg)   Dietary Fibre (g)   Sugars (g)   Protein (g)   \\\n0                   0                   0            0            0.3   \n1                   0                   0            0            0.5   \n2                   0                   0            0            1.0   \n3                   0                   0            0            1.0   \n4                  10                   0            9            6.0   \n..                ...                 ...          ...            ...   \n237                67                   1           64            5.0   \n238                39                   0           38            4.0   \n239                39                   0           38            3.0   \n240                37                   1           35            3.0   \n241                56                   0           55            5.0   \n\n    Vitamin A (% DV)  Vitamin C (% DV)  Calcium (% DV)  Iron (% DV)   \\\n0                  0%               0%               0%           0%   \n1                  0%               0%               0%           0%   \n2                  0%               0%               0%           0%   \n3                  0%               0%               2%           0%   \n4                 10%               0%              20%           0%   \n..                ...              ...              ...          ...   \n237                6%               8%              20%          10%   \n238                6%               0%              10%           0%   \n239                6%               0%              10%           0%   \n240                4%               0%              10%           6%   \n241                8%               0%              15%           0%   \n\n    Caffeine (mg)  \n0             175  \n1             260  \n2             330  \n3             410  \n4              75  \n..            ...  \n237             0  \n238             0  \n239             0  \n240             0  \n241             0  \n\n[242 rows x 18 columns]"
     },
     "execution_count": 5,
     "metadata": {},
     "output_type": "execute_result"
    }
   ],
   "source": [
    "drinks_content"
   ]
  },
  {
   "cell_type": "code",
   "execution_count": 7,
   "metadata": {},
   "outputs": [
    {
     "data": {
      "text/plain": "(242, 18)"
     },
     "execution_count": 7,
     "metadata": {},
     "output_type": "execute_result"
    }
   ],
   "source": [
    "drinks_content.shape"
   ]
  },
  {
   "cell_type": "code",
   "execution_count": 8,
   "metadata": {},
   "outputs": [
    {
     "data": {
      "text/plain": "Index(['Beverage_category', 'Beverage', 'Beverage_prep', 'Calories',\n       ' Total Fat (g)', 'Trans Fat (g) ', 'Saturated Fat (g)', ' Sodium (mg)',\n       ' Total Carbohydrates (g) ', 'Cholesterol (mg)', ' Dietary Fibre (g)',\n       ' Sugars (g)', ' Protein (g) ', 'Vitamin A (% DV) ', 'Vitamin C (% DV)',\n       ' Calcium (% DV) ', 'Iron (% DV) ', 'Caffeine (mg)'],\n      dtype='object')"
     },
     "execution_count": 8,
     "metadata": {},
     "output_type": "execute_result"
    }
   ],
   "source": [
    "drinks_content.columns"
   ]
  },
  {
   "cell_type": "markdown",
   "metadata": {},
   "source": [
    "## Question 2"
   ]
  },
  {
   "cell_type": "code",
   "execution_count": 9,
   "metadata": {},
   "outputs": [
    {
     "data": {
      "text/html": "<div>\n<style scoped>\n    .dataframe tbody tr th:only-of-type {\n        vertical-align: middle;\n    }\n\n    .dataframe tbody tr th {\n        vertical-align: top;\n    }\n\n    .dataframe thead th {\n        text-align: right;\n    }\n</style>\n<table border=\"1\" class=\"dataframe\">\n  <thead>\n    <tr style=\"text-align: right;\">\n      <th></th>\n      <th>Calories</th>\n      <th>Trans Fat (g)</th>\n      <th>Saturated Fat (g)</th>\n      <th>Sodium (mg)</th>\n      <th>Total Carbohydrates (g)</th>\n      <th>Cholesterol (mg)</th>\n      <th>Dietary Fibre (g)</th>\n      <th>Sugars (g)</th>\n      <th>Protein (g)</th>\n    </tr>\n  </thead>\n  <tbody>\n    <tr>\n      <th>count</th>\n      <td>242.000000</td>\n      <td>242.000000</td>\n      <td>242.000000</td>\n      <td>242.000000</td>\n      <td>242.000000</td>\n      <td>242.000000</td>\n      <td>242.000000</td>\n      <td>242.000000</td>\n      <td>242.000000</td>\n    </tr>\n    <tr>\n      <th>mean</th>\n      <td>193.871901</td>\n      <td>1.307025</td>\n      <td>0.037603</td>\n      <td>6.363636</td>\n      <td>128.884298</td>\n      <td>35.991736</td>\n      <td>0.805785</td>\n      <td>32.962810</td>\n      <td>6.978512</td>\n    </tr>\n    <tr>\n      <th>std</th>\n      <td>102.863303</td>\n      <td>1.640259</td>\n      <td>0.071377</td>\n      <td>8.630257</td>\n      <td>82.303223</td>\n      <td>20.795186</td>\n      <td>1.445944</td>\n      <td>19.730199</td>\n      <td>4.871659</td>\n    </tr>\n    <tr>\n      <th>min</th>\n      <td>0.000000</td>\n      <td>0.000000</td>\n      <td>0.000000</td>\n      <td>0.000000</td>\n      <td>0.000000</td>\n      <td>0.000000</td>\n      <td>0.000000</td>\n      <td>0.000000</td>\n      <td>0.000000</td>\n    </tr>\n    <tr>\n      <th>25%</th>\n      <td>120.000000</td>\n      <td>0.100000</td>\n      <td>0.000000</td>\n      <td>0.000000</td>\n      <td>70.000000</td>\n      <td>21.000000</td>\n      <td>0.000000</td>\n      <td>18.000000</td>\n      <td>3.000000</td>\n    </tr>\n    <tr>\n      <th>50%</th>\n      <td>185.000000</td>\n      <td>0.500000</td>\n      <td>0.000000</td>\n      <td>5.000000</td>\n      <td>125.000000</td>\n      <td>34.000000</td>\n      <td>0.000000</td>\n      <td>32.000000</td>\n      <td>6.000000</td>\n    </tr>\n    <tr>\n      <th>75%</th>\n      <td>260.000000</td>\n      <td>2.000000</td>\n      <td>0.100000</td>\n      <td>10.000000</td>\n      <td>170.000000</td>\n      <td>50.750000</td>\n      <td>1.000000</td>\n      <td>43.750000</td>\n      <td>10.000000</td>\n    </tr>\n    <tr>\n      <th>max</th>\n      <td>510.000000</td>\n      <td>9.000000</td>\n      <td>0.300000</td>\n      <td>40.000000</td>\n      <td>340.000000</td>\n      <td>90.000000</td>\n      <td>8.000000</td>\n      <td>84.000000</td>\n      <td>20.000000</td>\n    </tr>\n  </tbody>\n</table>\n</div>",
      "text/plain": "         Calories  Trans Fat (g)   Saturated Fat (g)   Sodium (mg)  \\\ncount  242.000000      242.000000         242.000000    242.000000   \nmean   193.871901        1.307025           0.037603      6.363636   \nstd    102.863303        1.640259           0.071377      8.630257   \nmin      0.000000        0.000000           0.000000      0.000000   \n25%    120.000000        0.100000           0.000000      0.000000   \n50%    185.000000        0.500000           0.000000      5.000000   \n75%    260.000000        2.000000           0.100000     10.000000   \nmax    510.000000        9.000000           0.300000     40.000000   \n\n        Total Carbohydrates (g)   Cholesterol (mg)   Dietary Fibre (g)  \\\ncount                 242.000000        242.000000          242.000000   \nmean                  128.884298         35.991736            0.805785   \nstd                    82.303223         20.795186            1.445944   \nmin                     0.000000          0.000000            0.000000   \n25%                    70.000000         21.000000            0.000000   \n50%                   125.000000         34.000000            0.000000   \n75%                   170.000000         50.750000            1.000000   \nmax                   340.000000         90.000000            8.000000   \n\n        Sugars (g)   Protein (g)   \ncount   242.000000     242.000000  \nmean     32.962810       6.978512  \nstd      19.730199       4.871659  \nmin       0.000000       0.000000  \n25%      18.000000       3.000000  \n50%      32.000000       6.000000  \n75%      43.750000      10.000000  \nmax      84.000000      20.000000  "
     },
     "execution_count": 9,
     "metadata": {},
     "output_type": "execute_result"
    }
   ],
   "source": [
    "drinks_content.describe()"
   ]
  },
  {
   "cell_type": "markdown",
   "metadata": {},
   "source": [
    "## Question 3"
   ]
  },
  {
   "cell_type": "code",
   "execution_count": 11,
   "metadata": {},
   "outputs": [],
   "source": [
    "drinks = drinks_content.loc[:, [\"Beverage_category\", \"Beverage\", \"Beverage_prep\", \"Calories\"]].copy()"
   ]
  },
  {
   "cell_type": "code",
   "execution_count": 12,
   "metadata": {},
   "outputs": [
    {
     "data": {
      "text/plain": "Beverage_category    0\nBeverage             0\nBeverage_prep        0\nCalories             0\ndtype: int64"
     },
     "execution_count": 12,
     "metadata": {},
     "output_type": "execute_result"
    }
   ],
   "source": [
    "drinks.isna().sum()"
   ]
  },
  {
   "cell_type": "markdown",
   "metadata": {},
   "source": [
    "No missing values in the dataframe."
   ]
  },
  {
   "cell_type": "markdown",
   "metadata": {},
   "source": [
    "## Question 4"
   ]
  },
  {
   "cell_type": "code",
   "execution_count": 16,
   "metadata": {},
   "outputs": [
    {
     "data": {
      "text/html": "<div>\n<style scoped>\n    .dataframe tbody tr th:only-of-type {\n        vertical-align: middle;\n    }\n\n    .dataframe tbody tr th {\n        vertical-align: top;\n    }\n\n    .dataframe thead th {\n        text-align: right;\n    }\n</style>\n<table border=\"1\" class=\"dataframe\">\n  <thead>\n    <tr style=\"text-align: right;\">\n      <th></th>\n      <th>Beverage_category</th>\n      <th>Beverage</th>\n      <th>Beverage_prep</th>\n      <th>Calories</th>\n      <th>calorie_diff</th>\n    </tr>\n  </thead>\n  <tbody>\n    <tr>\n      <th>237</th>\n      <td>Frappuccino® Blended Crème</td>\n      <td>Strawberries &amp; Crème (Without Whipped Cream)</td>\n      <td>Soymilk</td>\n      <td>320</td>\n      <td>-185</td>\n    </tr>\n    <tr>\n      <th>238</th>\n      <td>Frappuccino® Blended Crème</td>\n      <td>Vanilla Bean (Without Whipped Cream)</td>\n      <td>Tall Nonfat Milk</td>\n      <td>170</td>\n      <td>-35</td>\n    </tr>\n    <tr>\n      <th>239</th>\n      <td>Frappuccino® Blended Crème</td>\n      <td>Vanilla Bean (Without Whipped Cream)</td>\n      <td>Whole Milk</td>\n      <td>200</td>\n      <td>-65</td>\n    </tr>\n    <tr>\n      <th>240</th>\n      <td>Frappuccino® Blended Crème</td>\n      <td>Vanilla Bean (Without Whipped Cream)</td>\n      <td>Soymilk</td>\n      <td>180</td>\n      <td>-45</td>\n    </tr>\n    <tr>\n      <th>241</th>\n      <td>Frappuccino® Blended Crème</td>\n      <td>Vanilla Bean (Without Whipped Cream)</td>\n      <td>Grande Nonfat Milk</td>\n      <td>240</td>\n      <td>-105</td>\n    </tr>\n  </tbody>\n</table>\n</div>",
      "text/plain": "              Beverage_category                                      Beverage  \\\n237  Frappuccino® Blended Crème  Strawberries & Crème (Without Whipped Cream)   \n238  Frappuccino® Blended Crème          Vanilla Bean (Without Whipped Cream)   \n239  Frappuccino® Blended Crème          Vanilla Bean (Without Whipped Cream)   \n240  Frappuccino® Blended Crème          Vanilla Bean (Without Whipped Cream)   \n241  Frappuccino® Blended Crème          Vanilla Bean (Without Whipped Cream)   \n\n          Beverage_prep  Calories  calorie_diff  \n237             Soymilk       320          -185  \n238    Tall Nonfat Milk       170           -35  \n239          Whole Milk       200           -65  \n240             Soymilk       180           -45  \n241  Grande Nonfat Milk       240          -105  "
     },
     "execution_count": 16,
     "metadata": {},
     "output_type": "execute_result"
    }
   ],
   "source": [
    "drinks[\"calorie_diff\"] = 135 - drinks[\"Calories\"]"
   ]
  },
  {
   "cell_type": "markdown",
   "metadata": {},
   "source": [
    "## Question 5"
   ]
  },
  {
   "cell_type": "code",
   "execution_count": 18,
   "metadata": {},
   "outputs": [
    {
     "data": {
      "text/plain": "Beverage_category\nClassic Espresso Drinks              140.172414\nCoffee                                 4.250000\nFrappuccino® Blended Coffee          276.944444\nFrappuccino® Blended Crème           233.076923\nFrappuccino® Light Blended Coffee    162.500000\nShaken Iced Beverages                114.444444\nSignature Espresso Drinks            250.000000\nSmoothies                            282.222222\nTazo® Tea Drinks                     177.307692\nName: Calories, dtype: float64"
     },
     "execution_count": 18,
     "metadata": {},
     "output_type": "execute_result"
    }
   ],
   "source": [
    "drinks.groupby(\"Beverage_category\")[\"Calories\"].mean()"
   ]
  },
  {
   "cell_type": "markdown",
   "metadata": {},
   "source": [
    "## Question 6\n",
    "\n",
    "Which Beverage_prep type contains more than the average calories of all drinks? (Hint: to answer this, you’ll have to first figure out what the average calories across all drinks are, and then use that as a filter for the grouped Beverage_prep data)"
   ]
  },
  {
   "cell_type": "code",
   "execution_count": 27,
   "metadata": {},
   "outputs": [
    {
     "data": {
      "text/plain": "193.87190082644628"
     },
     "execution_count": 27,
     "metadata": {},
     "output_type": "execute_result"
    }
   ],
   "source": [
    "average_calories = drinks[\"Calories\"].mean()\n",
    "average_calories"
   ]
  },
  {
   "cell_type": "code",
   "execution_count": 44,
   "metadata": {},
   "outputs": [
    {
     "data": {
      "text/html": "<div>\n<style scoped>\n    .dataframe tbody tr th:only-of-type {\n        vertical-align: middle;\n    }\n\n    .dataframe tbody tr th {\n        vertical-align: top;\n    }\n\n    .dataframe thead th {\n        text-align: right;\n    }\n</style>\n<table border=\"1\" class=\"dataframe\">\n  <thead>\n    <tr style=\"text-align: right;\">\n      <th></th>\n      <th>Beverage_category</th>\n      <th>Beverage</th>\n      <th>Beverage_prep</th>\n      <th>Calories</th>\n      <th>calorie_diff</th>\n    </tr>\n  </thead>\n  <tbody>\n    <tr>\n      <th>84</th>\n      <td>Signature Espresso Drinks</td>\n      <td>White Chocolate Mocha (Without Whipped Cream)</td>\n      <td>2% Milk</td>\n      <td>510</td>\n      <td>-375</td>\n    </tr>\n    <tr>\n      <th>85</th>\n      <td>Signature Espresso Drinks</td>\n      <td>White Chocolate Mocha (Without Whipped Cream)</td>\n      <td>Soymilk</td>\n      <td>460</td>\n      <td>-325</td>\n    </tr>\n    <tr>\n      <th>215</th>\n      <td>Frappuccino® Blended Coffee</td>\n      <td>Java Chip (Without Whipped Cream)</td>\n      <td>Whole Milk</td>\n      <td>460</td>\n      <td>-325</td>\n    </tr>\n    <tr>\n      <th>128</th>\n      <td>Tazo® Tea Drinks</td>\n      <td>Tazo® Green Tea Latte</td>\n      <td>2% Milk</td>\n      <td>450</td>\n      <td>-315</td>\n    </tr>\n    <tr>\n      <th>83</th>\n      <td>Signature Espresso Drinks</td>\n      <td>White Chocolate Mocha (Without Whipped Cream)</td>\n      <td>Venti Nonfat Milk</td>\n      <td>450</td>\n      <td>-315</td>\n    </tr>\n    <tr>\n      <th>...</th>\n      <td>...</td>\n      <td>...</td>\n      <td>...</td>\n      <td>...</td>\n      <td>...</td>\n    </tr>\n    <tr>\n      <th>20</th>\n      <td>Classic Espresso Drinks</td>\n      <td>Caffè Mocha (Without Whipped Cream)</td>\n      <td>2% Milk</td>\n      <td>200</td>\n      <td>-65</td>\n    </tr>\n    <tr>\n      <th>200</th>\n      <td>Frappuccino® Blended Coffee</td>\n      <td>Caramel (Without Whipped Cream)</td>\n      <td>Whole Milk</td>\n      <td>200</td>\n      <td>-65</td>\n    </tr>\n    <tr>\n      <th>34</th>\n      <td>Classic Espresso Drinks</td>\n      <td>Vanilla Latte (Or Other Flavoured Latte)</td>\n      <td>Grande Nonfat Milk</td>\n      <td>200</td>\n      <td>-65</td>\n    </tr>\n    <tr>\n      <th>32</th>\n      <td>Classic Espresso Drinks</td>\n      <td>Vanilla Latte (Or Other Flavoured Latte)</td>\n      <td>2% Milk</td>\n      <td>200</td>\n      <td>-65</td>\n    </tr>\n    <tr>\n      <th>239</th>\n      <td>Frappuccino® Blended Crème</td>\n      <td>Vanilla Bean (Without Whipped Cream)</td>\n      <td>Whole Milk</td>\n      <td>200</td>\n      <td>-65</td>\n    </tr>\n  </tbody>\n</table>\n<p>107 rows × 5 columns</p>\n</div>",
      "text/plain": "               Beverage_category  \\\n84     Signature Espresso Drinks   \n85     Signature Espresso Drinks   \n215  Frappuccino® Blended Coffee   \n128             Tazo® Tea Drinks   \n83     Signature Espresso Drinks   \n..                           ...   \n20       Classic Espresso Drinks   \n200  Frappuccino® Blended Coffee   \n34       Classic Espresso Drinks   \n32       Classic Espresso Drinks   \n239   Frappuccino® Blended Crème   \n\n                                          Beverage       Beverage_prep  \\\n84   White Chocolate Mocha (Without Whipped Cream)             2% Milk   \n85   White Chocolate Mocha (Without Whipped Cream)             Soymilk   \n215              Java Chip (Without Whipped Cream)          Whole Milk   \n128                          Tazo® Green Tea Latte             2% Milk   \n83   White Chocolate Mocha (Without Whipped Cream)   Venti Nonfat Milk   \n..                                             ...                 ...   \n20             Caffè Mocha (Without Whipped Cream)             2% Milk   \n200                Caramel (Without Whipped Cream)          Whole Milk   \n34        Vanilla Latte (Or Other Flavoured Latte)  Grande Nonfat Milk   \n32        Vanilla Latte (Or Other Flavoured Latte)             2% Milk   \n239           Vanilla Bean (Without Whipped Cream)          Whole Milk   \n\n     Calories  calorie_diff  \n84        510          -375  \n85        460          -325  \n215       460          -325  \n128       450          -315  \n83        450          -315  \n..        ...           ...  \n20        200           -65  \n200       200           -65  \n34        200           -65  \n32        200           -65  \n239       200           -65  \n\n[107 rows x 5 columns]"
     },
     "execution_count": 44,
     "metadata": {},
     "output_type": "execute_result"
    }
   ],
   "source": [
    "# not sure of this going to have another go\n",
    "drinks.loc[drinks[\"Calories\"] > average_calories].sort_values(\"Calories\", ascending = False).groupby(\"Beverage_prep\").head(30)"
   ]
  },
  {
   "cell_type": "code",
   "execution_count": 101,
   "metadata": {},
   "outputs": [
    {
     "data": {
      "text/html": "<div>\n<style scoped>\n    .dataframe tbody tr th:only-of-type {\n        vertical-align: middle;\n    }\n\n    .dataframe tbody tr th {\n        vertical-align: top;\n    }\n\n    .dataframe thead th {\n        text-align: right;\n    }\n</style>\n<table border=\"1\" class=\"dataframe\">\n  <thead>\n    <tr style=\"text-align: right;\">\n      <th></th>\n      <th>Beverage_prep</th>\n      <th>mean Calories</th>\n    </tr>\n  </thead>\n  <tbody>\n    <tr>\n      <th>6</th>\n      <td>Solo</td>\n      <td>5.000000</td>\n    </tr>\n    <tr>\n      <th>1</th>\n      <td>Doppio</td>\n      <td>10.000000</td>\n    </tr>\n    <tr>\n      <th>4</th>\n      <td>Short</td>\n      <td>37.000000</td>\n    </tr>\n    <tr>\n      <th>8</th>\n      <td>Tall</td>\n      <td>63.428571</td>\n    </tr>\n    <tr>\n      <th>2</th>\n      <td>Grande</td>\n      <td>85.714286</td>\n    </tr>\n    <tr>\n      <th>5</th>\n      <td>Short Nonfat Milk</td>\n      <td>99.166667</td>\n    </tr>\n    <tr>\n      <th>10</th>\n      <td>Venti</td>\n      <td>118.571429</td>\n    </tr>\n    <tr>\n      <th>9</th>\n      <td>Tall Nonfat Milk</td>\n      <td>147.826087</td>\n    </tr>\n    <tr>\n      <th>7</th>\n      <td>Soymilk</td>\n      <td>207.272727</td>\n    </tr>\n    <tr>\n      <th>3</th>\n      <td>Grande Nonfat Milk</td>\n      <td>209.615385</td>\n    </tr>\n    <tr>\n      <th>0</th>\n      <td>2% Milk</td>\n      <td>218.000000</td>\n    </tr>\n    <tr>\n      <th>11</th>\n      <td>Venti Nonfat Milk</td>\n      <td>260.000000</td>\n    </tr>\n    <tr>\n      <th>12</th>\n      <td>Whole Milk</td>\n      <td>283.750000</td>\n    </tr>\n  </tbody>\n</table>\n</div>",
      "text/plain": "         Beverage_prep  mean Calories\n6                 Solo       5.000000\n1               Doppio      10.000000\n4                Short      37.000000\n8                 Tall      63.428571\n2               Grande      85.714286\n5    Short Nonfat Milk      99.166667\n10               Venti     118.571429\n9     Tall Nonfat Milk     147.826087\n7              Soymilk     207.272727\n3   Grande Nonfat Milk     209.615385\n0              2% Milk     218.000000\n11   Venti Nonfat Milk     260.000000\n12          Whole Milk     283.750000"
     },
     "execution_count": 101,
     "metadata": {},
     "output_type": "execute_result"
    }
   ],
   "source": [
    "beverage_prep = drinks.groupby(\"Beverage_prep\")[\"Calories\"]\\\n",
    "    .mean().reset_index(name = \"mean Calories\").sort_values(\"mean Calories\").copy()\n",
    "beverage_prep"
   ]
  },
  {
   "cell_type": "code",
   "execution_count": 102,
   "metadata": {},
   "outputs": [
    {
     "data": {
      "text/html": "<div>\n<style scoped>\n    .dataframe tbody tr th:only-of-type {\n        vertical-align: middle;\n    }\n\n    .dataframe tbody tr th {\n        vertical-align: top;\n    }\n\n    .dataframe thead th {\n        text-align: right;\n    }\n</style>\n<table border=\"1\" class=\"dataframe\">\n  <thead>\n    <tr style=\"text-align: right;\">\n      <th></th>\n      <th>Beverage_prep</th>\n      <th>mean Calories</th>\n    </tr>\n  </thead>\n  <tbody>\n    <tr>\n      <th>12</th>\n      <td>Whole Milk</td>\n      <td>283.750000</td>\n    </tr>\n    <tr>\n      <th>11</th>\n      <td>Venti Nonfat Milk</td>\n      <td>260.000000</td>\n    </tr>\n    <tr>\n      <th>0</th>\n      <td>2% Milk</td>\n      <td>218.000000</td>\n    </tr>\n    <tr>\n      <th>3</th>\n      <td>Grande Nonfat Milk</td>\n      <td>209.615385</td>\n    </tr>\n    <tr>\n      <th>7</th>\n      <td>Soymilk</td>\n      <td>207.272727</td>\n    </tr>\n  </tbody>\n</table>\n</div>",
      "text/plain": "         Beverage_prep  mean Calories\n12          Whole Milk     283.750000\n11   Venti Nonfat Milk     260.000000\n0              2% Milk     218.000000\n3   Grande Nonfat Milk     209.615385\n7              Soymilk     207.272727"
     },
     "execution_count": 102,
     "metadata": {},
     "output_type": "execute_result"
    }
   ],
   "source": [
    "# beverage_prep with more than average calories\n",
    "beverage_prep.loc[beverage_prep[\"mean Calories\"] > average_calories]\\\n",
    "    .sort_values(\"mean Calories\", ascending = False)"
   ]
  },
  {
   "cell_type": "markdown",
   "metadata": {},
   "source": [
    "## Question 7\n",
    "\n",
    "Which is the best type of coffee drink to get if you’re worried about consuming too many calories? (Hint: you can use pd.unique() on a column to get all unique values/levels of that column! Also remember that you can use isin() to subset with a list)"
   ]
  },
  {
   "cell_type": "code",
   "execution_count": 71,
   "metadata": {},
   "outputs": [],
   "source": [
    "# make a list of coffee drinks\n",
    "coffee_list = pd.unique(drinks[\"Beverage_category\"]).copy()\n",
    "coffee_list = np.delete(coffee_list, 3)"
   ]
  },
  {
   "cell_type": "code",
   "execution_count": 80,
   "metadata": {},
   "outputs": [
    {
     "data": {
      "text/html": "<div>\n<style scoped>\n    .dataframe tbody tr th:only-of-type {\n        vertical-align: middle;\n    }\n\n    .dataframe tbody tr th {\n        vertical-align: top;\n    }\n\n    .dataframe thead th {\n        text-align: right;\n    }\n</style>\n<table border=\"1\" class=\"dataframe\">\n  <thead>\n    <tr style=\"text-align: right;\">\n      <th></th>\n      <th>Beverage_category</th>\n      <th>Beverage</th>\n      <th>Beverage_prep</th>\n      <th>Calories</th>\n      <th>calorie_diff</th>\n    </tr>\n  </thead>\n  <tbody>\n    <tr>\n      <th>0</th>\n      <td>Coffee</td>\n      <td>Brewed Coffee</td>\n      <td>Short</td>\n      <td>3</td>\n      <td>132</td>\n    </tr>\n    <tr>\n      <th>1</th>\n      <td>Coffee</td>\n      <td>Brewed Coffee</td>\n      <td>Tall</td>\n      <td>4</td>\n      <td>131</td>\n    </tr>\n    <tr>\n      <th>2</th>\n      <td>Coffee</td>\n      <td>Brewed Coffee</td>\n      <td>Grande</td>\n      <td>5</td>\n      <td>130</td>\n    </tr>\n    <tr>\n      <th>3</th>\n      <td>Coffee</td>\n      <td>Brewed Coffee</td>\n      <td>Venti</td>\n      <td>5</td>\n      <td>130</td>\n    </tr>\n  </tbody>\n</table>\n</div>",
      "text/plain": "  Beverage_category       Beverage Beverage_prep  Calories  calorie_diff\n0            Coffee  Brewed Coffee         Short         3           132\n1            Coffee  Brewed Coffee          Tall         4           131\n2            Coffee  Brewed Coffee        Grande         5           130\n3            Coffee  Brewed Coffee         Venti         5           130"
     },
     "execution_count": 80,
     "metadata": {},
     "output_type": "execute_result"
    }
   ],
   "source": [
    "drinks.loc[drinks[\"Beverage_category\"].isin(coffee_list)].sort_values(\"Calories\").head(4)"
   ]
  },
  {
   "cell_type": "markdown",
   "metadata": {},
   "source": [
    "The best type of coffee drink to get is a short brewed coffee at 3 calories. Brewed coffee in all sized has the lowest calories."
   ]
  },
  {
   "cell_type": "markdown",
   "metadata": {},
   "source": [
    "## Question 8\n",
    "Filter the dataset drinks so we only take \"Classic Espresso Drinks\", and save this in a new data frame called espresso_drinks."
   ]
  },
  {
   "cell_type": "code",
   "execution_count": 86,
   "metadata": {},
   "outputs": [
    {
     "data": {
      "text/html": "<div>\n<style scoped>\n    .dataframe tbody tr th:only-of-type {\n        vertical-align: middle;\n    }\n\n    .dataframe tbody tr th {\n        vertical-align: top;\n    }\n\n    .dataframe thead th {\n        text-align: right;\n    }\n</style>\n<table border=\"1\" class=\"dataframe\">\n  <thead>\n    <tr style=\"text-align: right;\">\n      <th></th>\n      <th>Beverage_category</th>\n      <th>Beverage</th>\n      <th>Beverage_prep</th>\n      <th>Calories</th>\n      <th>calorie_diff</th>\n    </tr>\n  </thead>\n  <tbody>\n    <tr>\n      <th>4</th>\n      <td>Classic Espresso Drinks</td>\n      <td>Caffè Latte</td>\n      <td>Short Nonfat Milk</td>\n      <td>70</td>\n      <td>65</td>\n    </tr>\n    <tr>\n      <th>5</th>\n      <td>Classic Espresso Drinks</td>\n      <td>Caffè Latte</td>\n      <td>2% Milk</td>\n      <td>100</td>\n      <td>35</td>\n    </tr>\n    <tr>\n      <th>6</th>\n      <td>Classic Espresso Drinks</td>\n      <td>Caffè Latte</td>\n      <td>Soymilk</td>\n      <td>70</td>\n      <td>65</td>\n    </tr>\n    <tr>\n      <th>7</th>\n      <td>Classic Espresso Drinks</td>\n      <td>Caffè Latte</td>\n      <td>Tall Nonfat Milk</td>\n      <td>100</td>\n      <td>35</td>\n    </tr>\n    <tr>\n      <th>8</th>\n      <td>Classic Espresso Drinks</td>\n      <td>Caffè Latte</td>\n      <td>2% Milk</td>\n      <td>150</td>\n      <td>-15</td>\n    </tr>\n  </tbody>\n</table>\n</div>",
      "text/plain": "         Beverage_category     Beverage      Beverage_prep  Calories  \\\n4  Classic Espresso Drinks  Caffè Latte  Short Nonfat Milk        70   \n5  Classic Espresso Drinks  Caffè Latte            2% Milk       100   \n6  Classic Espresso Drinks  Caffè Latte            Soymilk        70   \n7  Classic Espresso Drinks  Caffè Latte   Tall Nonfat Milk       100   \n8  Classic Espresso Drinks  Caffè Latte            2% Milk       150   \n\n   calorie_diff  \n4            65  \n5            35  \n6            65  \n7            35  \n8           -15  "
     },
     "execution_count": 86,
     "metadata": {},
     "output_type": "execute_result"
    }
   ],
   "source": [
    "espresso_drinks = drinks.loc[drinks.Beverage_category == \"Classic Espresso Drinks\"].copy()\n",
    "espresso_drinks.head()"
   ]
  },
  {
   "cell_type": "markdown",
   "metadata": {},
   "source": [
    "## Question 9\n",
    "\n",
    "Group your espresso_drinks data frame by the type of Beverage prep, and then find out the mean calories for each drink group."
   ]
  },
  {
   "cell_type": "code",
   "execution_count": 90,
   "metadata": {},
   "outputs": [
    {
     "data": {
      "text/plain": "Beverage_prep\n2% Milk               184.375\nDoppio                 10.000\nGrande                 15.000\nGrande Nonfat Milk    150.000\nShort                   5.000\nShort Nonfat Milk      78.000\nSolo                    5.000\nSoymilk               151.250\nTall                   10.000\nTall Nonfat Milk      116.000\nVenti                  25.000\nVenti Nonfat Milk     194.000\nName: Calories, dtype: float64"
     },
     "execution_count": 90,
     "metadata": {},
     "output_type": "execute_result"
    }
   ],
   "source": [
    "espresso_drinks.groupby(\"Beverage_prep\")[\"Calories\"].mean()"
   ]
  },
  {
   "cell_type": "markdown",
   "metadata": {},
   "source": [
    "## Question 10\n",
    "\n",
    "Get the same grouped mean Calories values as above, but this time sorted in descending order. (Hint: so you're able to sort the resulting groupby by the 'Calories' column you will want to ensure you get back a dataframe and not a series)"
   ]
  },
  {
   "cell_type": "code",
   "execution_count": 108,
   "metadata": {},
   "outputs": [
    {
     "data": {
      "text/html": "<div>\n<style scoped>\n    .dataframe tbody tr th:only-of-type {\n        vertical-align: middle;\n    }\n\n    .dataframe tbody tr th {\n        vertical-align: top;\n    }\n\n    .dataframe thead th {\n        text-align: right;\n    }\n</style>\n<table border=\"1\" class=\"dataframe\">\n  <thead>\n    <tr style=\"text-align: right;\">\n      <th></th>\n      <th>Beverage_prep</th>\n      <th>mean Calories</th>\n    </tr>\n  </thead>\n  <tbody>\n    <tr>\n      <th>4</th>\n      <td>Short</td>\n      <td>5.000</td>\n    </tr>\n    <tr>\n      <th>6</th>\n      <td>Solo</td>\n      <td>5.000</td>\n    </tr>\n    <tr>\n      <th>1</th>\n      <td>Doppio</td>\n      <td>10.000</td>\n    </tr>\n    <tr>\n      <th>8</th>\n      <td>Tall</td>\n      <td>10.000</td>\n    </tr>\n    <tr>\n      <th>2</th>\n      <td>Grande</td>\n      <td>15.000</td>\n    </tr>\n    <tr>\n      <th>10</th>\n      <td>Venti</td>\n      <td>25.000</td>\n    </tr>\n    <tr>\n      <th>5</th>\n      <td>Short Nonfat Milk</td>\n      <td>78.000</td>\n    </tr>\n    <tr>\n      <th>9</th>\n      <td>Tall Nonfat Milk</td>\n      <td>116.000</td>\n    </tr>\n    <tr>\n      <th>3</th>\n      <td>Grande Nonfat Milk</td>\n      <td>150.000</td>\n    </tr>\n    <tr>\n      <th>7</th>\n      <td>Soymilk</td>\n      <td>151.250</td>\n    </tr>\n    <tr>\n      <th>0</th>\n      <td>2% Milk</td>\n      <td>184.375</td>\n    </tr>\n    <tr>\n      <th>11</th>\n      <td>Venti Nonfat Milk</td>\n      <td>194.000</td>\n    </tr>\n  </tbody>\n</table>\n</div>",
      "text/plain": "         Beverage_prep  mean Calories\n4                Short          5.000\n6                 Solo          5.000\n1               Doppio         10.000\n8                 Tall         10.000\n2               Grande         15.000\n10               Venti         25.000\n5    Short Nonfat Milk         78.000\n9     Tall Nonfat Milk        116.000\n3   Grande Nonfat Milk        150.000\n7              Soymilk        151.250\n0              2% Milk        184.375\n11   Venti Nonfat Milk        194.000"
     },
     "execution_count": 108,
     "metadata": {},
     "output_type": "execute_result"
    }
   ],
   "source": [
    "espresso_drinks_mean = espresso_drinks.groupby(\"Beverage_prep\")[\"Calories\"]\\\n",
    ".mean().reset_index(name = \"mean Calories\").sort_values(\"mean Calories\").copy()\n",
    "espresso_drinks_mean"
   ]
  },
  {
   "cell_type": "code",
   "execution_count": 106,
   "metadata": {},
   "outputs": [],
   "source": [
    "import seaborn as sns\n",
    "import matplotlib.pyplot as plt"
   ]
  },
  {
   "cell_type": "code",
   "execution_count": 107,
   "metadata": {},
   "outputs": [],
   "source": [
    "plt.rcParams['figure.figsize'] = [5, 3]\n",
    "plt.rcParams['figure.dpi'] = 120\n",
    "plt.rcParams['font.size'] = 10"
   ]
  },
  {
   "cell_type": "code",
   "execution_count": 117,
   "metadata": {},
   "outputs": [
    {
     "data": {
      "image/png": "[encoded data removed]",
      "text/plain": "<Figure size 600x360 with 1 Axes>"
     },
     "metadata": {
      "needs_background": "light"
     },
     "output_type": "display_data"
    }
   ],
   "source": [
    "sns.barplot(x = \"Beverage_prep\", y = \"Calories\",\n",
    " estimator = np.mean, ci = False, data = espresso_drinks.sort_values(\"Calories\"))\n",
    "plt.title(\"Average calories per beverage type\")\n",
    "plt.xlabel(\"Beverage prep\")\n",
    "plt.xticks(rotation = 90);"
   ]
  }
 ],
 "metadata": {
  "kernelspec": {
   "display_name": "Python 3.8.5 64-bit ('base': conda)",
   "name": "python385jvsc74a57bd09108c635b6b5aafb4b3c28d470dc0ce7fd254f5e9b87e0bbd860b29293e59f1c"
  },
  "language_info": {
   "codemirror_mode": {
    "name": "ipython",
    "version": 3
   },
   "file_extension": ".py",
   "mimetype": "text/x-python",
   "name": "python",
   "nbconvert_exporter": "python",
   "pygments_lexer": "ipython3",
   "version": "3.8.5"
  },
  "metadata": {
   "interpreter": {
    "hash": "9108c635b6b5aafb4b3c28d470dc0ce7fd254f5e9b87e0bbd860b29293e59f1c"
   }
  },
  "orig_nbformat": 2
 },
 "nbformat": 4,
 "nbformat_minor": 2
}